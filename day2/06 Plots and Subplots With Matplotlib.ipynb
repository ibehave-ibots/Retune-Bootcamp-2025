{
 "cells": [
  {
   "cell_type": "code",
   "execution_count": null,
   "metadata": {},
   "outputs": [],
   "source": [
    "# %pip install matplotlib numpy"
   ]
  },
  {
   "cell_type": "code",
   "execution_count": null,
   "metadata": {},
   "outputs": [],
   "source": [
    "import matplotlib.pyplot as plt\n",
    "import numpy as np"
   ]
  },
  {
   "cell_type": "markdown",
   "metadata": {},
   "source": [
    "---"
   ]
  },
  {
   "cell_type": "markdown",
   "metadata": {},
   "source": [
    "## Plotting with matplotlib\n",
    "\n",
    "We will learn features of matplotlib by plotting different kinds of signals.\n",
    "\n",
    "\n",
    "| Code                             | Description                                                                                   |\n",
    "|----------------------------------|-----------------------------------------------------------------------------------------------|\n",
    "| `plt.plot(x, y)`                 | Plots the data in `y` against the corresponding values in `x`.                                |\n",
    "| `plt.plot(x, y), color='yellow'`                 | Plots the data in yellow.                                |\n",
    "| `plt.plot(x, y), marker='.'`                 | Plots the data with `.` markers.                                |\n",
    "| `plt.plot(x, y), linewidth=2`                 | Plots the data with the line of 2 points wide.                                |\n",
    "| `plt.xlabel('Label [Unit]')`                 | Sets X-axis label.                                |\n",
    "| `plt.ylabel('Label [Unit]')`                 | Sets Y-axis label.                                |"
   ]
  },
  {
   "cell_type": "code",
   "execution_count": null,
   "metadata": {},
   "outputs": [],
   "source": [
    "f = 1 # Hz\n",
    "t = np.linspace(0, 1, 100) # signal sampled at 100 time points for one second\n",
    "w = np.sin(2 * np.pi * f * t) # sine wave"
   ]
  },
  {
   "cell_type": "markdown",
   "metadata": {},
   "source": [
    "**Example** Plot the sine wave."
   ]
  },
  {
   "cell_type": "code",
   "execution_count": null,
   "metadata": {},
   "outputs": [],
   "source": [
    "plt.plot(t, w)"
   ]
  },
  {
   "cell_type": "markdown",
   "metadata": {},
   "source": [
    "Plot signal in red"
   ]
  },
  {
   "cell_type": "code",
   "execution_count": null,
   "metadata": {},
   "outputs": [],
   "source": []
  },
  {
   "cell_type": "markdown",
   "metadata": {},
   "source": [
    "Plot the signal in red with a thick line"
   ]
  },
  {
   "cell_type": "code",
   "execution_count": null,
   "metadata": {},
   "outputs": [],
   "source": []
  },
  {
   "cell_type": "markdown",
   "metadata": {},
   "source": [
    "Plot signal in **red** with **thin** style and add marker **.** for each data point"
   ]
  },
  {
   "cell_type": "code",
   "execution_count": null,
   "metadata": {},
   "outputs": [],
   "source": []
  },
  {
   "cell_type": "markdown",
   "metadata": {},
   "source": [
    "**Example** Set X-axis label as `Time [s]`"
   ]
  },
  {
   "cell_type": "code",
   "execution_count": null,
   "metadata": {},
   "outputs": [],
   "source": [
    "plt.plot(t, w)\n",
    "plt.xlabel('Time [s]')"
   ]
  },
  {
   "cell_type": "markdown",
   "metadata": {},
   "source": [
    "Set Y-axis label as `Amplitude`"
   ]
  },
  {
   "cell_type": "code",
   "execution_count": null,
   "metadata": {},
   "outputs": [],
   "source": []
  },
  {
   "cell_type": "markdown",
   "metadata": {},
   "source": [
    "Set title of the plot as 'Sine wave'"
   ]
  },
  {
   "cell_type": "code",
   "execution_count": null,
   "metadata": {},
   "outputs": [],
   "source": []
  },
  {
   "cell_type": "markdown",
   "metadata": {},
   "source": [
    "---"
   ]
  },
  {
   "cell_type": "markdown",
   "metadata": {},
   "source": [
    "## Multiple signals in same plot\n",
    "\n",
    "| Code | Description |\n",
    "| ---- | ----------- |\n",
    "| `plt.plot(x, y)` | Plot `x` on the x-axis and `y` on the y-axis. |\n",
    "| `plt.xlabel('X-axis')` | Set the x-axis label as 'X-axis'. |\n",
    "| `plt.ylabel('Y-axis')` | Set the y-axis label as 'Y-axis'. |\n",
    "| `plt.legend()` | Adds legend to the plot based on assigned `label` parameter. |\n",
    "| `plt.legend(loc='right')` | Adds legend on the right side of the plot |\n",
    "\n"
   ]
  },
  {
   "cell_type": "code",
   "execution_count": null,
   "metadata": {},
   "outputs": [],
   "source": [
    "f1 = 1\n",
    "f2 = 3\n",
    "f3 = 10\n",
    "t = np.linspace(0, 1, 100)\n",
    "w1 = np.sin(2 * np.pi * f1 * t)\n",
    "w2 = np.sin(2 * np.pi * f2 * t)\n",
    "w3 = np.sin(2 * np.pi * f3 * t)"
   ]
  },
  {
   "cell_type": "markdown",
   "metadata": {},
   "source": [
    "**Example** Plot both w1 and w2 in same plot"
   ]
  },
  {
   "cell_type": "code",
   "execution_count": null,
   "metadata": {},
   "outputs": [],
   "source": [
    "plt.plot(t, w1)\n",
    "plt.plot(t, w2)"
   ]
  },
  {
   "cell_type": "markdown",
   "metadata": {},
   "source": [
    "Plot both w2 and w3 in same plot"
   ]
  },
  {
   "cell_type": "code",
   "execution_count": null,
   "metadata": {},
   "outputs": [],
   "source": []
  },
  {
   "cell_type": "markdown",
   "metadata": {},
   "source": [
    "Plot all three signals in same plot"
   ]
  },
  {
   "cell_type": "code",
   "execution_count": null,
   "metadata": {},
   "outputs": [],
   "source": []
  },
  {
   "cell_type": "markdown",
   "metadata": {},
   "source": [
    "Plot w1 in black and w2 in red"
   ]
  },
  {
   "cell_type": "code",
   "execution_count": null,
   "metadata": {},
   "outputs": [],
   "source": []
  },
  {
   "cell_type": "markdown",
   "metadata": {},
   "source": [
    "Plot w1 (black), w2 (red), and w3 (green)"
   ]
  },
  {
   "cell_type": "code",
   "execution_count": null,
   "metadata": {},
   "outputs": [],
   "source": []
  },
  {
   "cell_type": "markdown",
   "metadata": {},
   "source": [
    "**Example** Add a legend "
   ]
  },
  {
   "cell_type": "code",
   "execution_count": null,
   "metadata": {},
   "outputs": [],
   "source": [
    "plt.plot(t, w1, color='black', label='w1')\n",
    "plt.plot(t, w2, color='red', label = 'w2')\n",
    "plt.plot(t, w3, color='green', label = 'w3')\n",
    "plt.legend()"
   ]
  },
  {
   "cell_type": "markdown",
   "metadata": {},
   "source": [
    "Place legend on the `right`"
   ]
  },
  {
   "cell_type": "code",
   "execution_count": null,
   "metadata": {},
   "outputs": [],
   "source": []
  },
  {
   "cell_type": "markdown",
   "metadata": {},
   "source": [
    "Place legend on the upper right corner"
   ]
  },
  {
   "cell_type": "code",
   "execution_count": null,
   "metadata": {},
   "outputs": [],
   "source": []
  },
  {
   "cell_type": "markdown",
   "metadata": {},
   "source": [
    "## Subplots\n",
    "\n",
    "| Code                                    | Description                                            |\n",
    "| --------------------------------------- | ------------------------------------------------------ |\n",
    "| `plt.plot(x, y)` | Plot y values against x values. |\n",
    "| `plt.subplot(nrows, ncols, nindex)` | `plt.subplot(211)` tells Python to create a grid of subplots with 2 rows and 1 column and to use the first subplot (top plot) for the current plotting commands. If you were to add another plotting command with plt.subplot(212), it would plot in the second subplot (bottom plot). |\n",
    "| `plt.tight_layout()` | Adjust the padding between and around subplots. |"
   ]
  },
  {
   "cell_type": "code",
   "execution_count": null,
   "metadata": {},
   "outputs": [],
   "source": [
    "f1 = 1\n",
    "f2 = 3\n",
    "f3 = 10\n",
    "t = np.linspace(0, 1, 100)\n",
    "w1 = np.sin(2 * np.pi * f1 * t)\n",
    "w2 = np.sin(2 * np.pi * f2 * t)\n",
    "w3 = np.sin(2 * np.pi * f3 * t)"
   ]
  },
  {
   "cell_type": "markdown",
   "metadata": {},
   "source": [
    "**Example** Plot w1 and w2 in two subplots"
   ]
  },
  {
   "cell_type": "code",
   "execution_count": null,
   "metadata": {},
   "outputs": [],
   "source": [
    "plt.subplot(211)\n",
    "plt.plot(t, w1)\n",
    "\n",
    "plt.subplot(212)\n",
    "plt.plot(t, w2)"
   ]
  },
  {
   "cell_type": "markdown",
   "metadata": {},
   "source": [
    "Plot w2 and w3 in two subplots"
   ]
  },
  {
   "cell_type": "code",
   "execution_count": null,
   "metadata": {},
   "outputs": [],
   "source": []
  },
  {
   "cell_type": "markdown",
   "metadata": {},
   "source": [
    "Plot all signals in separate subplots"
   ]
  },
  {
   "cell_type": "code",
   "execution_count": null,
   "metadata": {},
   "outputs": [],
   "source": []
  },
  {
   "cell_type": "markdown",
   "metadata": {},
   "source": [
    "Add titles to each subplot \n",
    "\n",
    "`Hint: Use plt.title`"
   ]
  },
  {
   "cell_type": "code",
   "execution_count": null,
   "metadata": {},
   "outputs": [],
   "source": []
  },
  {
   "cell_type": "markdown",
   "metadata": {},
   "source": [
    "Add xlabel to the last subplot"
   ]
  },
  {
   "cell_type": "code",
   "execution_count": null,
   "metadata": {},
   "outputs": [],
   "source": []
  },
  {
   "cell_type": "markdown",
   "metadata": {},
   "source": [
    "**Example**: As you can see, the different subplots partly cover one another, which is not good. Adding ``plt.tight_layout`` to the code adjusts the padding around the subplots so that they don't overlap."
   ]
  },
  {
   "cell_type": "code",
   "execution_count": null,
   "metadata": {},
   "outputs": [],
   "source": [
    "plt.subplot(311)\n",
    "plt.plot(t, w1)\n",
    "plt.title('W1')\n",
    "\n",
    "plt.subplot(312)\n",
    "plt.plot(t, w2)\n",
    "plt.title('W3')\n",
    "\n",
    "plt.subplot(313)\n",
    "plt.plot(t, w3)\n",
    "plt.title('W3')\n",
    "\n",
    "\n",
    "plt.xlabel('Time [s]')\n",
    "\n",
    "plt.tight_layout()"
   ]
  },
  {
   "cell_type": "markdown",
   "metadata": {},
   "source": [
    "---"
   ]
  }
 ],
 "metadata": {
  "kernelspec": {
   "display_name": "suite2p",
   "language": "python",
   "name": "python3"
  },
  "language_info": {
   "codemirror_mode": {
    "name": "ipython",
    "version": 3
   },
   "file_extension": ".py",
   "mimetype": "text/x-python",
   "name": "python",
   "nbconvert_exporter": "python",
   "pygments_lexer": "ipython3",
   "version": "3.9.20"
  }
 },
 "nbformat": 4,
 "nbformat_minor": 4
}
