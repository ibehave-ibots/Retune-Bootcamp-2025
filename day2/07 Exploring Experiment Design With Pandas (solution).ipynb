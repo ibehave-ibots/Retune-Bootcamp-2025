{
 "cells": [
  {
   "cell_type": "code",
   "execution_count": 1,
   "metadata": {},
   "outputs": [],
   "source": [
    "# %pip install numpy matplotlib pandas seaborn pyocclient"
   ]
  },
  {
   "cell_type": "code",
   "execution_count": 2,
   "metadata": {},
   "outputs": [],
   "source": [
    "import matplotlib.pyplot as plt\n",
    "import pandas as pd\n",
    "import numpy as np\n",
    "import seaborn as sns"
   ]
  },
  {
   "cell_type": "markdown",
   "metadata": {},
   "source": [
    "## Exploring the Experiment's Design\n",
    "\n",
    "In this notebook, we'll get our first look at the experiment we'll be analyzing in this course; curated data from the [Steinmetz et al, 2019](https://www.nature.com/articles/s41586-019-1787-x) paper.  \n",
    "\n",
    "The data we'll be using in this notebook is focused on three CSV files, each containing sessions from a different stretch of data collection. They contain trial-level data from the experiment: \n",
    "  - `steinmetz_winter2016.csv`\n",
    "  - `steinmetz_summer2017.csv`\n",
    "  - `steinmetz_winter2017.csv`\n",
    "\n",
    "##### Analysis Goal\n",
    "Our goal is to get a better understanding of the experimental setup, answering questions such as:\n",
    "- how many sessions where recorded in total?\n",
    "- how many mice were involved in the experiment?\n",
    "- how many trials in each session?\n",
    "- and more\n",
    "\n",
    "##### Learning Goal\n",
    "By going through the following exercises and exploring the dataset, we'll get practice in working with [**Pandas Dataframes**](https://pandas.pydata.org/pandas-docs/stable/reference/api/pandas.DataFrame.html), a tool that appears in a lot of Python data science analyses!\n"
   ]
  },
  {
   "cell_type": "markdown",
   "metadata": {},
   "source": [
    "---"
   ]
  },
  {
   "cell_type": "markdown",
   "metadata": {},
   "source": [
    "## Download Data\n",
    "\n",
    "Run the following code to get the datasets downloaded to the 'data' folder:"
   ]
  },
  {
   "cell_type": "code",
   "execution_count": 3,
   "metadata": {},
   "outputs": [
    {
     "name": "stderr",
     "output_type": "stream",
     "text": [
      "c:\\Users\\sangeetha\\Retune_Bootcam_2025\\.pixi\\envs\\default\\Lib\\site-packages\\owncloud\\owncloud.py:602: SyntaxWarning: invalid escape sequence '\\*'\n",
      "  :param \\*\\*kwargs: optional arguments that ``put_file`` accepts\n",
      "c:\\Users\\sangeetha\\Retune_Bootcam_2025\\.pixi\\envs\\default\\Lib\\site-packages\\owncloud\\owncloud.py:636: SyntaxWarning: invalid escape sequence '\\*'\n",
      "  :param \\*\\*kwargs: optional arguments that ``put_file`` accepts\n",
      "c:\\Users\\sangeetha\\Retune_Bootcam_2025\\.pixi\\envs\\default\\Lib\\site-packages\\owncloud\\owncloud.py:1746: SyntaxWarning: invalid escape sequence '\\*'\n",
      "  :param \\*\\*kwargs: optional arguments that ``requests.Request.request`` accepts\n",
      "c:\\Users\\sangeetha\\Retune_Bootcam_2025\\.pixi\\envs\\default\\Lib\\site-packages\\owncloud\\owncloud.py:1766: SyntaxWarning: invalid escape sequence '\\*'\n",
      "  :param \\*\\*kwargs: optional arguments that ``requests.Request.request`` accepts\n",
      "c:\\Users\\sangeetha\\Retune_Bootcam_2025\\.pixi\\envs\\default\\Lib\\site-packages\\owncloud\\owncloud.py:1793: SyntaxWarning: invalid escape sequence '\\*'\n",
      "  :param \\*\\*kwargs: optional arguments that ``requests.Request.request`` accepts\n"
     ]
    },
    {
     "name": "stdout",
     "output_type": "stream",
     "text": [
      "Creating directory for data\n"
     ]
    }
   ],
   "source": [
    "import owncloud\n",
    "import os\n",
    "\n",
    "if not os.path.exists('data'):\n",
    "    print('Creating directory for data')\n",
    "    os.mkdir('data')\n",
    "\n",
    "oc = owncloud.Client.from_public_link('https://uni-bonn.sciebo.de/s/GZz1SKUi0Jfrqr4')\n",
    "oc.get_file('/', 'data/steinmetz_summer2017.csv');\n",
    "\n",
    "oc = owncloud.Client.from_public_link('https://uni-bonn.sciebo.de/s/oeuJ5loQ2KZ1Aor')\n",
    "oc.get_file('/', 'data/steinmetz_winter2016.csv');\n",
    "\n",
    "oc = owncloud.Client.from_public_link('https://uni-bonn.sciebo.de/s/dxvXfqefN7xRzho')\n",
    "oc.get_file('/', 'data/steinmetz_winter2017.csv');"
   ]
  },
  {
   "cell_type": "markdown",
   "metadata": {},
   "source": [
    "### Load Data and Get a Quick Description\n",
    "\n",
    "In this first part, we will get started with Pandas by first loading the dataset as a DataFrame (i.e. a table) and using some of the functions attached to the dataframe to get a quick look at the data. \n",
    "\n",
    "Below is a table containing some code, and their description, that we'll be using in this section:\n",
    "\n",
    "| **Code**                 | **Description**                                    |\n",
    "|--------------------------|----------------------------------------------------|\n",
    "| `df = pd.read_csv(\"path/to/datafile.csv\")` | Load the data stored in a CSV file as a pandas DataFrame and call it `df`. |\n",
    "| `df.head(5)` or `df[:5]`                  | Take a look at the first 5 rows in the data.      |\n",
    "| `df.tail(5)` or `df[-5:]`                 | Take a look at the last 5 rows in the data.       |\n",
    "| `len(df)`                               | See the total number of rows (in this case, trials). |"
   ]
  },
  {
   "cell_type": "markdown",
   "metadata": {},
   "source": [
    "##### Exercises\n",
    "\n",
    "Let's get a sense of what kind of data is in these files.  Load each of the datasets into a different variable name using the `pd.read_csv()` function, and answer the questions below!\n"
   ]
  },
  {
   "cell_type": "markdown",
   "metadata": {},
   "source": [
    "**Example**: Load the Winter 2016 dataset and preview the first 3 rows of the data"
   ]
  },
  {
   "cell_type": "code",
   "execution_count": 4,
   "metadata": {},
   "outputs": [
    {
     "data": {
      "text/html": [
       "<div>\n",
       "<style scoped>\n",
       "    .dataframe tbody tr th:only-of-type {\n",
       "        vertical-align: middle;\n",
       "    }\n",
       "\n",
       "    .dataframe tbody tr th {\n",
       "        vertical-align: top;\n",
       "    }\n",
       "\n",
       "    .dataframe thead th {\n",
       "        text-align: right;\n",
       "    }\n",
       "</style>\n",
       "<table border=\"1\" class=\"dataframe\">\n",
       "  <thead>\n",
       "    <tr style=\"text-align: right;\">\n",
       "      <th></th>\n",
       "      <th>trial</th>\n",
       "      <th>active_trials</th>\n",
       "      <th>contrast_left</th>\n",
       "      <th>contrast_right</th>\n",
       "      <th>stim_onset</th>\n",
       "      <th>gocue_time</th>\n",
       "      <th>response_type</th>\n",
       "      <th>response_time</th>\n",
       "      <th>feedback_time</th>\n",
       "      <th>feedback_type</th>\n",
       "      <th>reaction_time</th>\n",
       "      <th>reaction_type</th>\n",
       "      <th>mouse</th>\n",
       "      <th>session_date</th>\n",
       "      <th>session_id</th>\n",
       "    </tr>\n",
       "  </thead>\n",
       "  <tbody>\n",
       "    <tr>\n",
       "      <th>0</th>\n",
       "      <td>1</td>\n",
       "      <td>True</td>\n",
       "      <td>100</td>\n",
       "      <td>0</td>\n",
       "      <td>0.5</td>\n",
       "      <td>1.027216</td>\n",
       "      <td>1.0</td>\n",
       "      <td>1.150204</td>\n",
       "      <td>1.186819</td>\n",
       "      <td>1.0</td>\n",
       "      <td>170.0</td>\n",
       "      <td>1.0</td>\n",
       "      <td>Cori</td>\n",
       "      <td>2016-12-14</td>\n",
       "      <td>5dd41e</td>\n",
       "    </tr>\n",
       "    <tr>\n",
       "      <th>1</th>\n",
       "      <td>2</td>\n",
       "      <td>True</td>\n",
       "      <td>0</td>\n",
       "      <td>50</td>\n",
       "      <td>0.5</td>\n",
       "      <td>0.874414</td>\n",
       "      <td>-1.0</td>\n",
       "      <td>1.399503</td>\n",
       "      <td>1.437623</td>\n",
       "      <td>1.0</td>\n",
       "      <td>230.0</td>\n",
       "      <td>-1.0</td>\n",
       "      <td>Cori</td>\n",
       "      <td>2016-12-14</td>\n",
       "      <td>5dd41e</td>\n",
       "    </tr>\n",
       "    <tr>\n",
       "      <th>2</th>\n",
       "      <td>3</td>\n",
       "      <td>True</td>\n",
       "      <td>100</td>\n",
       "      <td>50</td>\n",
       "      <td>0.5</td>\n",
       "      <td>0.825213</td>\n",
       "      <td>1.0</td>\n",
       "      <td>0.949291</td>\n",
       "      <td>0.986016</td>\n",
       "      <td>1.0</td>\n",
       "      <td>200.0</td>\n",
       "      <td>1.0</td>\n",
       "      <td>Cori</td>\n",
       "      <td>2016-12-14</td>\n",
       "      <td>5dd41e</td>\n",
       "    </tr>\n",
       "  </tbody>\n",
       "</table>\n",
       "</div>"
      ],
      "text/plain": [
       "   trial  active_trials  contrast_left  contrast_right  stim_onset  \\\n",
       "0      1           True            100               0         0.5   \n",
       "1      2           True              0              50         0.5   \n",
       "2      3           True            100              50         0.5   \n",
       "\n",
       "   gocue_time  response_type  response_time  feedback_time  feedback_type  \\\n",
       "0    1.027216            1.0       1.150204       1.186819            1.0   \n",
       "1    0.874414           -1.0       1.399503       1.437623            1.0   \n",
       "2    0.825213            1.0       0.949291       0.986016            1.0   \n",
       "\n",
       "   reaction_time  reaction_type mouse session_date session_id  \n",
       "0          170.0            1.0  Cori   2016-12-14     5dd41e  \n",
       "1          230.0           -1.0  Cori   2016-12-14     5dd41e  \n",
       "2          200.0            1.0  Cori   2016-12-14     5dd41e  "
      ]
     },
     "execution_count": 4,
     "metadata": {},
     "output_type": "execute_result"
    }
   ],
   "source": [
    "df1 = pd.read_csv('./data/steinmetz_winter2016.csv')\n",
    "df1[:3]"
   ]
  },
  {
   "cell_type": "markdown",
   "metadata": {},
   "source": [
    "Load the Winter 2017 Dataset and preview the first 5 rows of the data"
   ]
  },
  {
   "cell_type": "code",
   "execution_count": 5,
   "metadata": {},
   "outputs": [
    {
     "data": {
      "text/html": [
       "<div>\n",
       "<style scoped>\n",
       "    .dataframe tbody tr th:only-of-type {\n",
       "        vertical-align: middle;\n",
       "    }\n",
       "\n",
       "    .dataframe tbody tr th {\n",
       "        vertical-align: top;\n",
       "    }\n",
       "\n",
       "    .dataframe thead th {\n",
       "        text-align: right;\n",
       "    }\n",
       "</style>\n",
       "<table border=\"1\" class=\"dataframe\">\n",
       "  <thead>\n",
       "    <tr style=\"text-align: right;\">\n",
       "      <th></th>\n",
       "      <th>trial</th>\n",
       "      <th>active_trials</th>\n",
       "      <th>contrast_left</th>\n",
       "      <th>contrast_right</th>\n",
       "      <th>stim_onset</th>\n",
       "      <th>gocue_time</th>\n",
       "      <th>response_type</th>\n",
       "      <th>response_time</th>\n",
       "      <th>feedback_time</th>\n",
       "      <th>feedback_type</th>\n",
       "      <th>reaction_time</th>\n",
       "      <th>reaction_type</th>\n",
       "      <th>mouse</th>\n",
       "      <th>session_date</th>\n",
       "      <th>session_id</th>\n",
       "    </tr>\n",
       "  </thead>\n",
       "  <tbody>\n",
       "    <tr>\n",
       "      <th>0</th>\n",
       "      <td>1</td>\n",
       "      <td>True</td>\n",
       "      <td>100</td>\n",
       "      <td>0</td>\n",
       "      <td>0.5</td>\n",
       "      <td>0.508117</td>\n",
       "      <td>1.0</td>\n",
       "      <td>0.903312</td>\n",
       "      <td>0.946524</td>\n",
       "      <td>1.0</td>\n",
       "      <td>210.0</td>\n",
       "      <td>1.0</td>\n",
       "      <td>Theiler</td>\n",
       "      <td>2017-10-11</td>\n",
       "      <td>aeb92f</td>\n",
       "    </tr>\n",
       "    <tr>\n",
       "      <th>1</th>\n",
       "      <td>2</td>\n",
       "      <td>True</td>\n",
       "      <td>0</td>\n",
       "      <td>100</td>\n",
       "      <td>0.5</td>\n",
       "      <td>0.678304</td>\n",
       "      <td>1.0</td>\n",
       "      <td>0.859908</td>\n",
       "      <td>0.859908</td>\n",
       "      <td>-1.0</td>\n",
       "      <td>270.0</td>\n",
       "      <td>1.0</td>\n",
       "      <td>Theiler</td>\n",
       "      <td>2017-10-11</td>\n",
       "      <td>aeb92f</td>\n",
       "    </tr>\n",
       "    <tr>\n",
       "      <th>2</th>\n",
       "      <td>3</td>\n",
       "      <td>True</td>\n",
       "      <td>0</td>\n",
       "      <td>100</td>\n",
       "      <td>0.5</td>\n",
       "      <td>0.508295</td>\n",
       "      <td>-1.0</td>\n",
       "      <td>0.646241</td>\n",
       "      <td>0.683098</td>\n",
       "      <td>1.0</td>\n",
       "      <td>320.0</td>\n",
       "      <td>-1.0</td>\n",
       "      <td>Theiler</td>\n",
       "      <td>2017-10-11</td>\n",
       "      <td>aeb92f</td>\n",
       "    </tr>\n",
       "    <tr>\n",
       "      <th>3</th>\n",
       "      <td>4</td>\n",
       "      <td>True</td>\n",
       "      <td>0</td>\n",
       "      <td>25</td>\n",
       "      <td>0.5</td>\n",
       "      <td>0.437219</td>\n",
       "      <td>-1.0</td>\n",
       "      <td>0.985264</td>\n",
       "      <td>1.022429</td>\n",
       "      <td>1.0</td>\n",
       "      <td>790.0</td>\n",
       "      <td>-1.0</td>\n",
       "      <td>Theiler</td>\n",
       "      <td>2017-10-11</td>\n",
       "      <td>aeb92f</td>\n",
       "    </tr>\n",
       "    <tr>\n",
       "      <th>4</th>\n",
       "      <td>5</td>\n",
       "      <td>True</td>\n",
       "      <td>100</td>\n",
       "      <td>25</td>\n",
       "      <td>0.5</td>\n",
       "      <td>0.672789</td>\n",
       "      <td>1.0</td>\n",
       "      <td>1.137715</td>\n",
       "      <td>1.175197</td>\n",
       "      <td>1.0</td>\n",
       "      <td>250.0</td>\n",
       "      <td>1.0</td>\n",
       "      <td>Theiler</td>\n",
       "      <td>2017-10-11</td>\n",
       "      <td>aeb92f</td>\n",
       "    </tr>\n",
       "  </tbody>\n",
       "</table>\n",
       "</div>"
      ],
      "text/plain": [
       "   trial  active_trials  contrast_left  contrast_right  stim_onset  \\\n",
       "0      1           True            100               0         0.5   \n",
       "1      2           True              0             100         0.5   \n",
       "2      3           True              0             100         0.5   \n",
       "3      4           True              0              25         0.5   \n",
       "4      5           True            100              25         0.5   \n",
       "\n",
       "   gocue_time  response_type  response_time  feedback_time  feedback_type  \\\n",
       "0    0.508117            1.0       0.903312       0.946524            1.0   \n",
       "1    0.678304            1.0       0.859908       0.859908           -1.0   \n",
       "2    0.508295           -1.0       0.646241       0.683098            1.0   \n",
       "3    0.437219           -1.0       0.985264       1.022429            1.0   \n",
       "4    0.672789            1.0       1.137715       1.175197            1.0   \n",
       "\n",
       "   reaction_time  reaction_type    mouse session_date session_id  \n",
       "0          210.0            1.0  Theiler   2017-10-11     aeb92f  \n",
       "1          270.0            1.0  Theiler   2017-10-11     aeb92f  \n",
       "2          320.0           -1.0  Theiler   2017-10-11     aeb92f  \n",
       "3          790.0           -1.0  Theiler   2017-10-11     aeb92f  \n",
       "4          250.0            1.0  Theiler   2017-10-11     aeb92f  "
      ]
     },
     "execution_count": 5,
     "metadata": {},
     "output_type": "execute_result"
    }
   ],
   "source": [
    "df2 = pd.read_csv('./data/steinmetz_winter2017.csv')\n",
    "df2[:5]"
   ]
  },
  {
   "cell_type": "markdown",
   "metadata": {},
   "source": [
    "Load the Summer 2017 Dataset and preview the last 4 rows of the data"
   ]
  },
  {
   "cell_type": "code",
   "execution_count": 6,
   "metadata": {},
   "outputs": [
    {
     "data": {
      "text/html": [
       "<div>\n",
       "<style scoped>\n",
       "    .dataframe tbody tr th:only-of-type {\n",
       "        vertical-align: middle;\n",
       "    }\n",
       "\n",
       "    .dataframe tbody tr th {\n",
       "        vertical-align: top;\n",
       "    }\n",
       "\n",
       "    .dataframe thead th {\n",
       "        text-align: right;\n",
       "    }\n",
       "</style>\n",
       "<table border=\"1\" class=\"dataframe\">\n",
       "  <thead>\n",
       "    <tr style=\"text-align: right;\">\n",
       "      <th></th>\n",
       "      <th>trial</th>\n",
       "      <th>active_trials</th>\n",
       "      <th>contrast_left</th>\n",
       "      <th>contrast_right</th>\n",
       "      <th>stim_onset</th>\n",
       "      <th>gocue_time</th>\n",
       "      <th>response_type</th>\n",
       "      <th>response_time</th>\n",
       "      <th>feedback_time</th>\n",
       "      <th>feedback_type</th>\n",
       "      <th>reaction_time</th>\n",
       "      <th>reaction_type</th>\n",
       "      <th>mouse</th>\n",
       "      <th>session_date</th>\n",
       "      <th>session_id</th>\n",
       "    </tr>\n",
       "  </thead>\n",
       "  <tbody>\n",
       "    <tr>\n",
       "      <th>2743</th>\n",
       "      <td>449</td>\n",
       "      <td>False</td>\n",
       "      <td>100</td>\n",
       "      <td>25</td>\n",
       "      <td>0.5</td>\n",
       "      <td>NaN</td>\n",
       "      <td>NaN</td>\n",
       "      <td>NaN</td>\n",
       "      <td>NaN</td>\n",
       "      <td>NaN</td>\n",
       "      <td>NaN</td>\n",
       "      <td>NaN</td>\n",
       "      <td>Hench</td>\n",
       "      <td>2017-06-18</td>\n",
       "      <td>dd9ee9</td>\n",
       "    </tr>\n",
       "    <tr>\n",
       "      <th>2744</th>\n",
       "      <td>450</td>\n",
       "      <td>False</td>\n",
       "      <td>0</td>\n",
       "      <td>100</td>\n",
       "      <td>0.5</td>\n",
       "      <td>NaN</td>\n",
       "      <td>NaN</td>\n",
       "      <td>NaN</td>\n",
       "      <td>NaN</td>\n",
       "      <td>NaN</td>\n",
       "      <td>NaN</td>\n",
       "      <td>NaN</td>\n",
       "      <td>Hench</td>\n",
       "      <td>2017-06-18</td>\n",
       "      <td>dd9ee9</td>\n",
       "    </tr>\n",
       "    <tr>\n",
       "      <th>2745</th>\n",
       "      <td>451</td>\n",
       "      <td>False</td>\n",
       "      <td>0</td>\n",
       "      <td>100</td>\n",
       "      <td>0.5</td>\n",
       "      <td>NaN</td>\n",
       "      <td>NaN</td>\n",
       "      <td>NaN</td>\n",
       "      <td>NaN</td>\n",
       "      <td>NaN</td>\n",
       "      <td>NaN</td>\n",
       "      <td>NaN</td>\n",
       "      <td>Hench</td>\n",
       "      <td>2017-06-18</td>\n",
       "      <td>dd9ee9</td>\n",
       "    </tr>\n",
       "    <tr>\n",
       "      <th>2746</th>\n",
       "      <td>452</td>\n",
       "      <td>False</td>\n",
       "      <td>0</td>\n",
       "      <td>100</td>\n",
       "      <td>0.5</td>\n",
       "      <td>NaN</td>\n",
       "      <td>NaN</td>\n",
       "      <td>NaN</td>\n",
       "      <td>NaN</td>\n",
       "      <td>NaN</td>\n",
       "      <td>NaN</td>\n",
       "      <td>NaN</td>\n",
       "      <td>Hench</td>\n",
       "      <td>2017-06-18</td>\n",
       "      <td>dd9ee9</td>\n",
       "    </tr>\n",
       "  </tbody>\n",
       "</table>\n",
       "</div>"
      ],
      "text/plain": [
       "      trial  active_trials  contrast_left  contrast_right  stim_onset  \\\n",
       "2743    449          False            100              25         0.5   \n",
       "2744    450          False              0             100         0.5   \n",
       "2745    451          False              0             100         0.5   \n",
       "2746    452          False              0             100         0.5   \n",
       "\n",
       "      gocue_time  response_type  response_time  feedback_time  feedback_type  \\\n",
       "2743         NaN            NaN            NaN            NaN            NaN   \n",
       "2744         NaN            NaN            NaN            NaN            NaN   \n",
       "2745         NaN            NaN            NaN            NaN            NaN   \n",
       "2746         NaN            NaN            NaN            NaN            NaN   \n",
       "\n",
       "      reaction_time  reaction_type  mouse session_date session_id  \n",
       "2743            NaN            NaN  Hench   2017-06-18     dd9ee9  \n",
       "2744            NaN            NaN  Hench   2017-06-18     dd9ee9  \n",
       "2745            NaN            NaN  Hench   2017-06-18     dd9ee9  \n",
       "2746            NaN            NaN  Hench   2017-06-18     dd9ee9  "
      ]
     },
     "execution_count": 6,
     "metadata": {},
     "output_type": "execute_result"
    }
   ],
   "source": [
    "df3 = pd.read_csv('./data/steinmetz_summer2017.csv')\n",
    "df3[-4:]"
   ]
  },
  {
   "cell_type": "markdown",
   "metadata": {},
   "source": [
    "Calculate the number of rows (i.e. the \"length\") of each of the three datasets. In this data, each row represents one trial.  Which file contained the most trials?"
   ]
  },
  {
   "cell_type": "markdown",
   "metadata": {},
   "source": [
    "**Example**: N Trials, Winter 2016:"
   ]
  },
  {
   "cell_type": "code",
   "execution_count": 7,
   "metadata": {},
   "outputs": [
    {
     "data": {
      "text/plain": [
       "3767"
      ]
     },
     "execution_count": 7,
     "metadata": {},
     "output_type": "execute_result"
    }
   ],
   "source": [
    "len(df1)"
   ]
  },
  {
   "cell_type": "markdown",
   "metadata": {},
   "source": [
    "N Trials, Winter 2017:"
   ]
  },
  {
   "cell_type": "code",
   "execution_count": 8,
   "metadata": {},
   "outputs": [
    {
     "data": {
      "text/plain": [
       "7906"
      ]
     },
     "execution_count": 8,
     "metadata": {},
     "output_type": "execute_result"
    }
   ],
   "source": [
    "len(df2)"
   ]
  },
  {
   "cell_type": "markdown",
   "metadata": {},
   "source": [
    "N Trials, Summer 2017:"
   ]
  },
  {
   "cell_type": "code",
   "execution_count": 9,
   "metadata": {},
   "outputs": [
    {
     "data": {
      "text/plain": [
       "2747"
      ]
     },
     "execution_count": 9,
     "metadata": {},
     "output_type": "execute_result"
    }
   ],
   "source": [
    "len(df3)"
   ]
  },
  {
   "cell_type": "markdown",
   "metadata": {},
   "source": [
    "**Example**: The first 3 rows of the winter 2016 dataframe:"
   ]
  },
  {
   "cell_type": "code",
   "execution_count": 10,
   "metadata": {},
   "outputs": [
    {
     "data": {
      "text/html": [
       "<div>\n",
       "<style scoped>\n",
       "    .dataframe tbody tr th:only-of-type {\n",
       "        vertical-align: middle;\n",
       "    }\n",
       "\n",
       "    .dataframe tbody tr th {\n",
       "        vertical-align: top;\n",
       "    }\n",
       "\n",
       "    .dataframe thead th {\n",
       "        text-align: right;\n",
       "    }\n",
       "</style>\n",
       "<table border=\"1\" class=\"dataframe\">\n",
       "  <thead>\n",
       "    <tr style=\"text-align: right;\">\n",
       "      <th></th>\n",
       "      <th>trial</th>\n",
       "      <th>active_trials</th>\n",
       "      <th>contrast_left</th>\n",
       "      <th>contrast_right</th>\n",
       "      <th>stim_onset</th>\n",
       "      <th>gocue_time</th>\n",
       "      <th>response_type</th>\n",
       "      <th>response_time</th>\n",
       "      <th>feedback_time</th>\n",
       "      <th>feedback_type</th>\n",
       "      <th>reaction_time</th>\n",
       "      <th>reaction_type</th>\n",
       "      <th>mouse</th>\n",
       "      <th>session_date</th>\n",
       "      <th>session_id</th>\n",
       "    </tr>\n",
       "  </thead>\n",
       "  <tbody>\n",
       "    <tr>\n",
       "      <th>0</th>\n",
       "      <td>1</td>\n",
       "      <td>True</td>\n",
       "      <td>100</td>\n",
       "      <td>0</td>\n",
       "      <td>0.5</td>\n",
       "      <td>1.027216</td>\n",
       "      <td>1.0</td>\n",
       "      <td>1.150204</td>\n",
       "      <td>1.186819</td>\n",
       "      <td>1.0</td>\n",
       "      <td>170.0</td>\n",
       "      <td>1.0</td>\n",
       "      <td>Cori</td>\n",
       "      <td>2016-12-14</td>\n",
       "      <td>5dd41e</td>\n",
       "    </tr>\n",
       "    <tr>\n",
       "      <th>1</th>\n",
       "      <td>2</td>\n",
       "      <td>True</td>\n",
       "      <td>0</td>\n",
       "      <td>50</td>\n",
       "      <td>0.5</td>\n",
       "      <td>0.874414</td>\n",
       "      <td>-1.0</td>\n",
       "      <td>1.399503</td>\n",
       "      <td>1.437623</td>\n",
       "      <td>1.0</td>\n",
       "      <td>230.0</td>\n",
       "      <td>-1.0</td>\n",
       "      <td>Cori</td>\n",
       "      <td>2016-12-14</td>\n",
       "      <td>5dd41e</td>\n",
       "    </tr>\n",
       "    <tr>\n",
       "      <th>2</th>\n",
       "      <td>3</td>\n",
       "      <td>True</td>\n",
       "      <td>100</td>\n",
       "      <td>50</td>\n",
       "      <td>0.5</td>\n",
       "      <td>0.825213</td>\n",
       "      <td>1.0</td>\n",
       "      <td>0.949291</td>\n",
       "      <td>0.986016</td>\n",
       "      <td>1.0</td>\n",
       "      <td>200.0</td>\n",
       "      <td>1.0</td>\n",
       "      <td>Cori</td>\n",
       "      <td>2016-12-14</td>\n",
       "      <td>5dd41e</td>\n",
       "    </tr>\n",
       "  </tbody>\n",
       "</table>\n",
       "</div>"
      ],
      "text/plain": [
       "   trial  active_trials  contrast_left  contrast_right  stim_onset  \\\n",
       "0      1           True            100               0         0.5   \n",
       "1      2           True              0              50         0.5   \n",
       "2      3           True            100              50         0.5   \n",
       "\n",
       "   gocue_time  response_type  response_time  feedback_time  feedback_type  \\\n",
       "0    1.027216            1.0       1.150204       1.186819            1.0   \n",
       "1    0.874414           -1.0       1.399503       1.437623            1.0   \n",
       "2    0.825213            1.0       0.949291       0.986016            1.0   \n",
       "\n",
       "   reaction_time  reaction_type mouse session_date session_id  \n",
       "0          170.0            1.0  Cori   2016-12-14     5dd41e  \n",
       "1          230.0           -1.0  Cori   2016-12-14     5dd41e  \n",
       "2          200.0            1.0  Cori   2016-12-14     5dd41e  "
      ]
     },
     "execution_count": 10,
     "metadata": {},
     "output_type": "execute_result"
    }
   ],
   "source": [
    "df1.head(3)  # or df2[:3]"
   ]
  },
  {
   "cell_type": "markdown",
   "metadata": {},
   "source": [
    "The last 4 rows of the winter 2017 dataframe:"
   ]
  },
  {
   "cell_type": "code",
   "execution_count": 11,
   "metadata": {},
   "outputs": [
    {
     "data": {
      "text/html": [
       "<div>\n",
       "<style scoped>\n",
       "    .dataframe tbody tr th:only-of-type {\n",
       "        vertical-align: middle;\n",
       "    }\n",
       "\n",
       "    .dataframe tbody tr th {\n",
       "        vertical-align: top;\n",
       "    }\n",
       "\n",
       "    .dataframe thead th {\n",
       "        text-align: right;\n",
       "    }\n",
       "</style>\n",
       "<table border=\"1\" class=\"dataframe\">\n",
       "  <thead>\n",
       "    <tr style=\"text-align: right;\">\n",
       "      <th></th>\n",
       "      <th>trial</th>\n",
       "      <th>active_trials</th>\n",
       "      <th>contrast_left</th>\n",
       "      <th>contrast_right</th>\n",
       "      <th>stim_onset</th>\n",
       "      <th>gocue_time</th>\n",
       "      <th>response_type</th>\n",
       "      <th>response_time</th>\n",
       "      <th>feedback_time</th>\n",
       "      <th>feedback_type</th>\n",
       "      <th>reaction_time</th>\n",
       "      <th>reaction_type</th>\n",
       "      <th>mouse</th>\n",
       "      <th>session_date</th>\n",
       "      <th>session_id</th>\n",
       "    </tr>\n",
       "  </thead>\n",
       "  <tbody>\n",
       "    <tr>\n",
       "      <th>7902</th>\n",
       "      <td>423</td>\n",
       "      <td>False</td>\n",
       "      <td>0</td>\n",
       "      <td>100</td>\n",
       "      <td>0.5</td>\n",
       "      <td>NaN</td>\n",
       "      <td>NaN</td>\n",
       "      <td>NaN</td>\n",
       "      <td>NaN</td>\n",
       "      <td>NaN</td>\n",
       "      <td>NaN</td>\n",
       "      <td>NaN</td>\n",
       "      <td>Lederberg</td>\n",
       "      <td>2017-12-11</td>\n",
       "      <td>8f15c5</td>\n",
       "    </tr>\n",
       "    <tr>\n",
       "      <th>7903</th>\n",
       "      <td>424</td>\n",
       "      <td>False</td>\n",
       "      <td>0</td>\n",
       "      <td>50</td>\n",
       "      <td>0.5</td>\n",
       "      <td>NaN</td>\n",
       "      <td>NaN</td>\n",
       "      <td>NaN</td>\n",
       "      <td>NaN</td>\n",
       "      <td>NaN</td>\n",
       "      <td>NaN</td>\n",
       "      <td>NaN</td>\n",
       "      <td>Lederberg</td>\n",
       "      <td>2017-12-11</td>\n",
       "      <td>8f15c5</td>\n",
       "    </tr>\n",
       "    <tr>\n",
       "      <th>7904</th>\n",
       "      <td>425</td>\n",
       "      <td>False</td>\n",
       "      <td>0</td>\n",
       "      <td>100</td>\n",
       "      <td>0.5</td>\n",
       "      <td>NaN</td>\n",
       "      <td>NaN</td>\n",
       "      <td>NaN</td>\n",
       "      <td>NaN</td>\n",
       "      <td>NaN</td>\n",
       "      <td>NaN</td>\n",
       "      <td>NaN</td>\n",
       "      <td>Lederberg</td>\n",
       "      <td>2017-12-11</td>\n",
       "      <td>8f15c5</td>\n",
       "    </tr>\n",
       "    <tr>\n",
       "      <th>7905</th>\n",
       "      <td>426</td>\n",
       "      <td>False</td>\n",
       "      <td>0</td>\n",
       "      <td>100</td>\n",
       "      <td>0.5</td>\n",
       "      <td>NaN</td>\n",
       "      <td>NaN</td>\n",
       "      <td>NaN</td>\n",
       "      <td>NaN</td>\n",
       "      <td>NaN</td>\n",
       "      <td>NaN</td>\n",
       "      <td>NaN</td>\n",
       "      <td>Lederberg</td>\n",
       "      <td>2017-12-11</td>\n",
       "      <td>8f15c5</td>\n",
       "    </tr>\n",
       "  </tbody>\n",
       "</table>\n",
       "</div>"
      ],
      "text/plain": [
       "      trial  active_trials  contrast_left  contrast_right  stim_onset  \\\n",
       "7902    423          False              0             100         0.5   \n",
       "7903    424          False              0              50         0.5   \n",
       "7904    425          False              0             100         0.5   \n",
       "7905    426          False              0             100         0.5   \n",
       "\n",
       "      gocue_time  response_type  response_time  feedback_time  feedback_type  \\\n",
       "7902         NaN            NaN            NaN            NaN            NaN   \n",
       "7903         NaN            NaN            NaN            NaN            NaN   \n",
       "7904         NaN            NaN            NaN            NaN            NaN   \n",
       "7905         NaN            NaN            NaN            NaN            NaN   \n",
       "\n",
       "      reaction_time  reaction_type      mouse session_date session_id  \n",
       "7902            NaN            NaN  Lederberg   2017-12-11     8f15c5  \n",
       "7903            NaN            NaN  Lederberg   2017-12-11     8f15c5  \n",
       "7904            NaN            NaN  Lederberg   2017-12-11     8f15c5  \n",
       "7905            NaN            NaN  Lederberg   2017-12-11     8f15c5  "
      ]
     },
     "execution_count": 11,
     "metadata": {},
     "output_type": "execute_result"
    }
   ],
   "source": [
    "df2.tail(4)  # or df2[4:]"
   ]
  },
  {
   "cell_type": "markdown",
   "metadata": {},
   "source": [
    "The first 9 rows of the summer 2017 dataframe:"
   ]
  },
  {
   "cell_type": "code",
   "execution_count": 12,
   "metadata": {},
   "outputs": [
    {
     "data": {
      "text/html": [
       "<div>\n",
       "<style scoped>\n",
       "    .dataframe tbody tr th:only-of-type {\n",
       "        vertical-align: middle;\n",
       "    }\n",
       "\n",
       "    .dataframe tbody tr th {\n",
       "        vertical-align: top;\n",
       "    }\n",
       "\n",
       "    .dataframe thead th {\n",
       "        text-align: right;\n",
       "    }\n",
       "</style>\n",
       "<table border=\"1\" class=\"dataframe\">\n",
       "  <thead>\n",
       "    <tr style=\"text-align: right;\">\n",
       "      <th></th>\n",
       "      <th>trial</th>\n",
       "      <th>active_trials</th>\n",
       "      <th>contrast_left</th>\n",
       "      <th>contrast_right</th>\n",
       "      <th>stim_onset</th>\n",
       "      <th>gocue_time</th>\n",
       "      <th>response_type</th>\n",
       "      <th>response_time</th>\n",
       "      <th>feedback_time</th>\n",
       "      <th>feedback_type</th>\n",
       "      <th>reaction_time</th>\n",
       "      <th>reaction_type</th>\n",
       "      <th>mouse</th>\n",
       "      <th>session_date</th>\n",
       "      <th>session_id</th>\n",
       "    </tr>\n",
       "  </thead>\n",
       "  <tbody>\n",
       "    <tr>\n",
       "      <th>0</th>\n",
       "      <td>1</td>\n",
       "      <td>True</td>\n",
       "      <td>0</td>\n",
       "      <td>50</td>\n",
       "      <td>0.5</td>\n",
       "      <td>0.788413</td>\n",
       "      <td>-1.0</td>\n",
       "      <td>1.141331</td>\n",
       "      <td>1.178420</td>\n",
       "      <td>1.0</td>\n",
       "      <td>650.0</td>\n",
       "      <td>-1.0</td>\n",
       "      <td>Moniz</td>\n",
       "      <td>2017-05-15</td>\n",
       "      <td>e93982</td>\n",
       "    </tr>\n",
       "    <tr>\n",
       "      <th>1</th>\n",
       "      <td>2</td>\n",
       "      <td>True</td>\n",
       "      <td>50</td>\n",
       "      <td>0</td>\n",
       "      <td>0.5</td>\n",
       "      <td>0.849215</td>\n",
       "      <td>1.0</td>\n",
       "      <td>0.932758</td>\n",
       "      <td>0.970017</td>\n",
       "      <td>1.0</td>\n",
       "      <td>200.0</td>\n",
       "      <td>1.0</td>\n",
       "      <td>Moniz</td>\n",
       "      <td>2017-05-15</td>\n",
       "      <td>e93982</td>\n",
       "    </tr>\n",
       "    <tr>\n",
       "      <th>2</th>\n",
       "      <td>3</td>\n",
       "      <td>True</td>\n",
       "      <td>0</td>\n",
       "      <td>0</td>\n",
       "      <td>0.5</td>\n",
       "      <td>0.827614</td>\n",
       "      <td>-1.0</td>\n",
       "      <td>1.299385</td>\n",
       "      <td>1.299385</td>\n",
       "      <td>-1.0</td>\n",
       "      <td>310.0</td>\n",
       "      <td>-1.0</td>\n",
       "      <td>Moniz</td>\n",
       "      <td>2017-05-15</td>\n",
       "      <td>e93982</td>\n",
       "    </tr>\n",
       "    <tr>\n",
       "      <th>3</th>\n",
       "      <td>4</td>\n",
       "      <td>True</td>\n",
       "      <td>0</td>\n",
       "      <td>0</td>\n",
       "      <td>0.5</td>\n",
       "      <td>1.103619</td>\n",
       "      <td>1.0</td>\n",
       "      <td>1.232597</td>\n",
       "      <td>1.232597</td>\n",
       "      <td>-1.0</td>\n",
       "      <td>550.0</td>\n",
       "      <td>1.0</td>\n",
       "      <td>Moniz</td>\n",
       "      <td>2017-05-15</td>\n",
       "      <td>e93982</td>\n",
       "    </tr>\n",
       "    <tr>\n",
       "      <th>4</th>\n",
       "      <td>5</td>\n",
       "      <td>True</td>\n",
       "      <td>0</td>\n",
       "      <td>0</td>\n",
       "      <td>0.5</td>\n",
       "      <td>1.140420</td>\n",
       "      <td>1.0</td>\n",
       "      <td>1.682664</td>\n",
       "      <td>1.682664</td>\n",
       "      <td>-1.0</td>\n",
       "      <td>1470.0</td>\n",
       "      <td>-1.0</td>\n",
       "      <td>Moniz</td>\n",
       "      <td>2017-05-15</td>\n",
       "      <td>e93982</td>\n",
       "    </tr>\n",
       "    <tr>\n",
       "      <th>5</th>\n",
       "      <td>6</td>\n",
       "      <td>True</td>\n",
       "      <td>0</td>\n",
       "      <td>0</td>\n",
       "      <td>0.5</td>\n",
       "      <td>0.742013</td>\n",
       "      <td>0.0</td>\n",
       "      <td>2.252159</td>\n",
       "      <td>2.286039</td>\n",
       "      <td>1.0</td>\n",
       "      <td>inf</td>\n",
       "      <td>0.0</td>\n",
       "      <td>Moniz</td>\n",
       "      <td>2017-05-15</td>\n",
       "      <td>e93982</td>\n",
       "    </tr>\n",
       "    <tr>\n",
       "      <th>6</th>\n",
       "      <td>7</td>\n",
       "      <td>True</td>\n",
       "      <td>50</td>\n",
       "      <td>25</td>\n",
       "      <td>0.5</td>\n",
       "      <td>0.625211</td>\n",
       "      <td>-1.0</td>\n",
       "      <td>0.782890</td>\n",
       "      <td>0.782890</td>\n",
       "      <td>-1.0</td>\n",
       "      <td>160.0</td>\n",
       "      <td>-1.0</td>\n",
       "      <td>Moniz</td>\n",
       "      <td>2017-05-15</td>\n",
       "      <td>e93982</td>\n",
       "    </tr>\n",
       "    <tr>\n",
       "      <th>7</th>\n",
       "      <td>8</td>\n",
       "      <td>True</td>\n",
       "      <td>0</td>\n",
       "      <td>25</td>\n",
       "      <td>0.5</td>\n",
       "      <td>0.653611</td>\n",
       "      <td>-1.0</td>\n",
       "      <td>1.449337</td>\n",
       "      <td>1.486026</td>\n",
       "      <td>1.0</td>\n",
       "      <td>1300.0</td>\n",
       "      <td>-1.0</td>\n",
       "      <td>Moniz</td>\n",
       "      <td>2017-05-15</td>\n",
       "      <td>e93982</td>\n",
       "    </tr>\n",
       "    <tr>\n",
       "      <th>8</th>\n",
       "      <td>9</td>\n",
       "      <td>True</td>\n",
       "      <td>50</td>\n",
       "      <td>0</td>\n",
       "      <td>0.5</td>\n",
       "      <td>0.810814</td>\n",
       "      <td>1.0</td>\n",
       "      <td>0.883743</td>\n",
       "      <td>0.920816</td>\n",
       "      <td>1.0</td>\n",
       "      <td>190.0</td>\n",
       "      <td>1.0</td>\n",
       "      <td>Moniz</td>\n",
       "      <td>2017-05-15</td>\n",
       "      <td>e93982</td>\n",
       "    </tr>\n",
       "  </tbody>\n",
       "</table>\n",
       "</div>"
      ],
      "text/plain": [
       "   trial  active_trials  contrast_left  contrast_right  stim_onset  \\\n",
       "0      1           True              0              50         0.5   \n",
       "1      2           True             50               0         0.5   \n",
       "2      3           True              0               0         0.5   \n",
       "3      4           True              0               0         0.5   \n",
       "4      5           True              0               0         0.5   \n",
       "5      6           True              0               0         0.5   \n",
       "6      7           True             50              25         0.5   \n",
       "7      8           True              0              25         0.5   \n",
       "8      9           True             50               0         0.5   \n",
       "\n",
       "   gocue_time  response_type  response_time  feedback_time  feedback_type  \\\n",
       "0    0.788413           -1.0       1.141331       1.178420            1.0   \n",
       "1    0.849215            1.0       0.932758       0.970017            1.0   \n",
       "2    0.827614           -1.0       1.299385       1.299385           -1.0   \n",
       "3    1.103619            1.0       1.232597       1.232597           -1.0   \n",
       "4    1.140420            1.0       1.682664       1.682664           -1.0   \n",
       "5    0.742013            0.0       2.252159       2.286039            1.0   \n",
       "6    0.625211           -1.0       0.782890       0.782890           -1.0   \n",
       "7    0.653611           -1.0       1.449337       1.486026            1.0   \n",
       "8    0.810814            1.0       0.883743       0.920816            1.0   \n",
       "\n",
       "   reaction_time  reaction_type  mouse session_date session_id  \n",
       "0          650.0           -1.0  Moniz   2017-05-15     e93982  \n",
       "1          200.0            1.0  Moniz   2017-05-15     e93982  \n",
       "2          310.0           -1.0  Moniz   2017-05-15     e93982  \n",
       "3          550.0            1.0  Moniz   2017-05-15     e93982  \n",
       "4         1470.0           -1.0  Moniz   2017-05-15     e93982  \n",
       "5            inf            0.0  Moniz   2017-05-15     e93982  \n",
       "6          160.0           -1.0  Moniz   2017-05-15     e93982  \n",
       "7         1300.0           -1.0  Moniz   2017-05-15     e93982  \n",
       "8          190.0            1.0  Moniz   2017-05-15     e93982  "
      ]
     },
     "execution_count": 12,
     "metadata": {},
     "output_type": "execute_result"
    }
   ],
   "source": [
    "df3.head(9)  # or df2[:9]"
   ]
  },
  {
   "cell_type": "markdown",
   "metadata": {},
   "source": [
    "---"
   ]
  },
  {
   "cell_type": "markdown",
   "metadata": {},
   "source": [
    "### Exploring the Structure of a Dataset for the Purpose of Merging Them"
   ]
  },
  {
   "cell_type": "markdown",
   "metadata": {},
   "source": [
    "Multi-session data is easiest to analyze with when each session is organized the same way, and contains the same variables. In a table (what the `pandas` library calls a `DataFrame`), that means all the datasets have the same columns and that they store the same kind of data. \n",
    "\n",
    "| **Code**                     | **Description**                                                                                                          |\n",
    "|------------------------------|--------------------------------------------------------------------------------------------------------------------------|\n",
    "| `df.columns`                 | Returns the column labels of the DataFrame.                                                                             |\n",
    "| `df.dtypes`                  | Provides the data types of each column in the DataFrame.                                                                |\n",
    "| `df.info()`                  | Prints a concise summary of a DataFrame, including the index dtype and column dtypes, non-null values, and memory usage.|\n",
    "| `pd.concat([df1, df2], axis=0)` | Concatenates pandas objects (`df1` and `df2`) along a particular axis (default is 0, meaning rows).                     |\n",
    "\n",
    "\n",
    "These operations and methods are fundamental for data manipulation and exploration in pandas, providing insights into the structure and composition of our data.\n",
    "\n",
    "**Exercises** \n",
    "\n",
    "Let's look in more detail at each of these tables' structures!"
   ]
  },
  {
   "cell_type": "markdown",
   "metadata": {},
   "source": [
    "**Example**: What columns are in the Winter 2016 data?"
   ]
  },
  {
   "cell_type": "code",
   "execution_count": 13,
   "metadata": {},
   "outputs": [
    {
     "data": {
      "text/plain": [
       "Index(['trial', 'active_trials', 'contrast_left', 'contrast_right',\n",
       "       'stim_onset', 'gocue_time', 'response_type', 'response_time',\n",
       "       'feedback_time', 'feedback_type', 'reaction_time', 'reaction_type',\n",
       "       'mouse', 'session_date', 'session_id'],\n",
       "      dtype='object')"
      ]
     },
     "execution_count": 13,
     "metadata": {},
     "output_type": "execute_result"
    }
   ],
   "source": [
    "df1.columns"
   ]
  },
  {
   "cell_type": "markdown",
   "metadata": {},
   "source": [
    "What columns are in the Winter 2017 data, and under data type (i.e. \"dtype\") is each column's data formatted as? "
   ]
  },
  {
   "cell_type": "code",
   "execution_count": 14,
   "metadata": {},
   "outputs": [
    {
     "data": {
      "text/plain": [
       "trial               int64\n",
       "active_trials        bool\n",
       "contrast_left       int64\n",
       "contrast_right      int64\n",
       "stim_onset        float64\n",
       "gocue_time        float64\n",
       "response_type     float64\n",
       "response_time     float64\n",
       "feedback_time     float64\n",
       "feedback_type     float64\n",
       "reaction_time     float64\n",
       "reaction_type     float64\n",
       "mouse              object\n",
       "session_date       object\n",
       "session_id         object\n",
       "dtype: object"
      ]
     },
     "execution_count": 14,
     "metadata": {},
     "output_type": "execute_result"
    }
   ],
   "source": [
    "df2.dtypes"
   ]
  },
  {
   "cell_type": "markdown",
   "metadata": {},
   "source": [
    "For the Summer 2017 data, let's get more `info`; in this case, the number of rows with non-missing data for each column, as well as much memory the dataset takes up on the computer.\n",
    "\n",
    "Is there any missing data in the Summer 2017 dataset?  And how many kilobytes does it take up?"
   ]
  },
  {
   "cell_type": "code",
   "execution_count": 15,
   "metadata": {},
   "outputs": [
    {
     "name": "stdout",
     "output_type": "stream",
     "text": [
      "<class 'pandas.core.frame.DataFrame'>\n",
      "RangeIndex: 2747 entries, 0 to 2746\n",
      "Data columns (total 15 columns):\n",
      " #   Column          Non-Null Count  Dtype  \n",
      "---  ------          --------------  -----  \n",
      " 0   trial           2747 non-null   int64  \n",
      " 1   active_trials   2747 non-null   bool   \n",
      " 2   contrast_left   2747 non-null   int64  \n",
      " 3   contrast_right  2747 non-null   int64  \n",
      " 4   stim_onset      2747 non-null   float64\n",
      " 5   gocue_time      2017 non-null   float64\n",
      " 6   response_type   2017 non-null   float64\n",
      " 7   response_time   2017 non-null   float64\n",
      " 8   feedback_time   2017 non-null   float64\n",
      " 9   feedback_type   2017 non-null   float64\n",
      " 10  reaction_time   2017 non-null   float64\n",
      " 11  reaction_type   2017 non-null   float64\n",
      " 12  mouse           2747 non-null   object \n",
      " 13  session_date    2747 non-null   object \n",
      " 14  session_id      2747 non-null   object \n",
      "dtypes: bool(1), float64(8), int64(3), object(3)\n",
      "memory usage: 303.3+ KB\n"
     ]
    }
   ],
   "source": [
    "df3.info()"
   ]
  },
  {
   "cell_type": "markdown",
   "metadata": {},
   "source": [
    "**Example**: Concatenate the two winter tables into a single one."
   ]
  },
  {
   "cell_type": "code",
   "execution_count": 16,
   "metadata": {},
   "outputs": [],
   "source": [
    "df = pd.concat([df1, df2]);"
   ]
  },
  {
   "cell_type": "markdown",
   "metadata": {},
   "source": [
    "Concatenate all three tables into a single one."
   ]
  },
  {
   "cell_type": "code",
   "execution_count": 17,
   "metadata": {},
   "outputs": [],
   "source": [
    "df = pd.concat([df1, df2, df3], ignore_index=True);"
   ]
  },
  {
   "cell_type": "markdown",
   "metadata": {},
   "source": [
    "How many trials are in the entire dataset?"
   ]
  },
  {
   "cell_type": "code",
   "execution_count": 18,
   "metadata": {},
   "outputs": [
    {
     "data": {
      "text/plain": [
       "14420"
      ]
     },
     "execution_count": 18,
     "metadata": {},
     "output_type": "execute_result"
    }
   ],
   "source": [
    "len(df)"
   ]
  },
  {
   "cell_type": "markdown",
   "metadata": {},
   "source": [
    "Are the same columns still in this dataset?"
   ]
  },
  {
   "cell_type": "code",
   "execution_count": 19,
   "metadata": {},
   "outputs": [
    {
     "data": {
      "text/plain": [
       "Index(['trial', 'active_trials', 'contrast_left', 'contrast_right',\n",
       "       'stim_onset', 'gocue_time', 'response_type', 'response_time',\n",
       "       'feedback_time', 'feedback_type', 'reaction_time', 'reaction_type',\n",
       "       'mouse', 'session_date', 'session_id'],\n",
       "      dtype='object')"
      ]
     },
     "execution_count": 19,
     "metadata": {},
     "output_type": "execute_result"
    }
   ],
   "source": [
    "df.columns"
   ]
  },
  {
   "cell_type": "markdown",
   "metadata": {},
   "source": [
    "---"
   ]
  },
  {
   "cell_type": "markdown",
   "metadata": {},
   "source": [
    "### Counting Categorical Data: Counting Sessions, Mice, and Trial Conditions\n",
    "\n",
    "In Python, the square brackets can be used to get data from a data collection.  In the case of Pandas Dataframes (which our table is an instance of), this lets us get the columns by name.\n",
    "\n",
    "| **Code**                                           | **Description**                                                                                                  |\n",
    "|----------------------------------------------------|------------------------------------------------------------------------------------------------------------------|\n",
    "| `df['col'].nunique()`                           | Returns the number of unique values in the specified column.                                                     |\n",
    "| `df['col'].unique()`                            | Provides an array of all unique values in the specified column.                                                  |\n",
    "| `df['col'].value_counts().sort_index()`         | Counts the occurrence of each unique value in the specified column, then sorts these counts by the index (value).|\n",
    "| `df[['col1', 'col2']].value_counts().sort_index()` | Counts the occurrence of unique combinations in the specified columns, then sorts these counts by the index.     |\n",
    "\n",
    "\n",
    "Let's use these techniques to answer some questions about how the experiment was structured."
   ]
  },
  {
   "cell_type": "markdown",
   "metadata": {},
   "source": [
    "**Example**: How many sessions are in the entire dataset (i.e. how many unique values are there in the column \"session_id\")?"
   ]
  },
  {
   "cell_type": "code",
   "execution_count": 20,
   "metadata": {},
   "outputs": [
    {
     "data": {
      "text/plain": [
       "39"
      ]
     },
     "execution_count": 20,
     "metadata": {},
     "output_type": "execute_result"
    }
   ],
   "source": [
    "df['session_id'].nunique()"
   ]
  },
  {
   "cell_type": "markdown",
   "metadata": {},
   "source": [
    "How many mice?"
   ]
  },
  {
   "cell_type": "code",
   "execution_count": 21,
   "metadata": {},
   "outputs": [
    {
     "data": {
      "text/plain": [
       "10"
      ]
     },
     "execution_count": 21,
     "metadata": {},
     "output_type": "execute_result"
    }
   ],
   "source": [
    "df['mouse'].nunique()"
   ]
  },
  {
   "cell_type": "markdown",
   "metadata": {},
   "source": [
    "What were the names of the mice?"
   ]
  },
  {
   "cell_type": "code",
   "execution_count": 22,
   "metadata": {},
   "outputs": [
    {
     "data": {
      "text/plain": [
       "array(['Cori', 'Muller', 'Radnitz', 'Theiler', 'Richards', 'Forssmann',\n",
       "       'Lederberg', 'Tatum', 'Moniz', 'Hench'], dtype=object)"
      ]
     },
     "execution_count": 22,
     "metadata": {},
     "output_type": "execute_result"
    }
   ],
   "source": [
    "df['mouse'].unique()"
   ]
  },
  {
   "cell_type": "markdown",
   "metadata": {},
   "source": [
    "What are the different contrast levels for the left stimulus?"
   ]
  },
  {
   "cell_type": "code",
   "execution_count": 23,
   "metadata": {},
   "outputs": [
    {
     "data": {
      "text/plain": [
       "array([100,   0,  50,  25])"
      ]
     },
     "execution_count": 23,
     "metadata": {},
     "output_type": "execute_result"
    }
   ],
   "source": [
    "df['contrast_left'].unique()"
   ]
  },
  {
   "cell_type": "markdown",
   "metadata": {},
   "source": [
    "How many different contrast levels are there for the left stimulus?"
   ]
  },
  {
   "cell_type": "code",
   "execution_count": 24,
   "metadata": {},
   "outputs": [
    {
     "data": {
      "text/plain": [
       "4"
      ]
     },
     "execution_count": 24,
     "metadata": {},
     "output_type": "execute_result"
    }
   ],
   "source": [
    "df['contrast_left'].nunique()"
   ]
  },
  {
   "cell_type": "markdown",
   "metadata": {},
   "source": [
    "What were the different values in feedback_types?"
   ]
  },
  {
   "cell_type": "code",
   "execution_count": 25,
   "metadata": {},
   "outputs": [
    {
     "data": {
      "text/plain": [
       "array([ 1., -1., nan])"
      ]
     },
     "execution_count": 25,
     "metadata": {},
     "output_type": "execute_result"
    }
   ],
   "source": [
    "df['feedback_type'].unique()"
   ]
  },
  {
   "cell_type": "markdown",
   "metadata": {},
   "source": [
    "What were the different values in response types?"
   ]
  },
  {
   "cell_type": "code",
   "execution_count": 26,
   "metadata": {},
   "outputs": [
    {
     "data": {
      "text/plain": [
       "array([ 1., -1.,  0., nan])"
      ]
     },
     "execution_count": 26,
     "metadata": {},
     "output_type": "execute_result"
    }
   ],
   "source": [
    "df['response_type'].unique()"
   ]
  },
  {
   "cell_type": "markdown",
   "metadata": {},
   "source": [
    "How many trials were considered \"active\" (i.e. the mouse was expected to be actively responding to the stimuli, vs just being passively shown stimuli at the end of a session)?"
   ]
  },
  {
   "cell_type": "code",
   "execution_count": 27,
   "metadata": {},
   "outputs": [
    {
     "data": {
      "text/plain": [
       "active_trials\n",
       "True     10050\n",
       "False     4370\n",
       "Name: count, dtype: int64"
      ]
     },
     "execution_count": 27,
     "metadata": {},
     "output_type": "execute_result"
    }
   ],
   "source": [
    "df['active_trials'].value_counts()"
   ]
  },
  {
   "cell_type": "markdown",
   "metadata": {},
   "source": [
    "How many trials did each of the mice do?"
   ]
  },
  {
   "cell_type": "code",
   "execution_count": 28,
   "metadata": {},
   "outputs": [
    {
     "data": {
      "text/plain": [
       "mouse\n",
       "Cori         1143\n",
       "Forssmann    1485\n",
       "Hench        1851\n",
       "Lederberg    2902\n",
       "Moniz         896\n",
       "Muller       1112\n",
       "Radnitz      1512\n",
       "Richards     1677\n",
       "Tatum        1389\n",
       "Theiler       453\n",
       "Name: count, dtype: int64"
      ]
     },
     "execution_count": 28,
     "metadata": {},
     "output_type": "execute_result"
    }
   ],
   "source": [
    "df['mouse'].value_counts().sort_index()"
   ]
  },
  {
   "cell_type": "markdown",
   "metadata": {},
   "source": [
    "How many trials were there for each value of `contrast_left`?"
   ]
  },
  {
   "cell_type": "code",
   "execution_count": 29,
   "metadata": {},
   "outputs": [
    {
     "data": {
      "text/plain": [
       "contrast_left\n",
       "0      7200\n",
       "25     1680\n",
       "50     1696\n",
       "100    3844\n",
       "Name: count, dtype: int64"
      ]
     },
     "execution_count": 29,
     "metadata": {},
     "output_type": "execute_result"
    }
   ],
   "source": [
    "df['contrast_left'].value_counts().sort_index()"
   ]
  },
  {
   "cell_type": "markdown",
   "metadata": {},
   "source": [
    "Each trial contained two stimuli: one on the left of the mouse, and one on the right, each with their own contrast levels.  How many triasl were there for each combination of `contrast_left` and `contrast_right`?"
   ]
  },
  {
   "cell_type": "code",
   "execution_count": 30,
   "metadata": {},
   "outputs": [
    {
     "data": {
      "text/plain": [
       "contrast_left  contrast_right\n",
       "0              0                 2649\n",
       "               25                 738\n",
       "               50                1078\n",
       "               100               2735\n",
       "25             0                  353\n",
       "               25                 255\n",
       "               50                 372\n",
       "               100                700\n",
       "50             0                  767\n",
       "               25                 348\n",
       "               50                 256\n",
       "               100                325\n",
       "100            0                 1334\n",
       "               25                1187\n",
       "               50                 712\n",
       "               100                611\n",
       "Name: count, dtype: int64"
      ]
     },
     "execution_count": 30,
     "metadata": {},
     "output_type": "execute_result"
    }
   ],
   "source": [
    "df[['contrast_left', 'contrast_right']].value_counts().sort_index()"
   ]
  },
  {
   "cell_type": "markdown",
   "metadata": {},
   "source": [
    "---"
   ]
  },
  {
   "cell_type": "markdown",
   "metadata": {},
   "source": [
    "### Calculating Statics on Continuous Data: Measuring Response Time\n",
    "\n",
    "| **Code**                                | **Description**                                                                                              |\n",
    "|-----------------------------------------|--------------------------------------------------------------------------------------------------------------|\n",
    "| `df['col'].min()`                       | Returns the minimum value in the specified column.                                                           |\n",
    "| `df['col'].max()`                       | Returns the maximum value in the specified column.                                                           |\n",
    "| `df['col'].mean()`                      | Calculates the mean (average) of the specified column.                                                       |\n",
    "| `df['col'].median()`                    | Finds the median (middle value) of the specified column.                                                     |\n",
    "| `df['col'].std()`                       | Computes the standard deviation, a measure of the amount of variation or dispersion, of the specified column.|\n",
    "| `df[['col1', 'col2']].mean()`           | Calculates the mean (average) of each specified column and returns a Series with these averages.             |"
   ]
  },
  {
   "cell_type": "markdown",
   "metadata": {},
   "source": [
    "**Example**: What was the minimum response time?"
   ]
  },
  {
   "cell_type": "code",
   "execution_count": 31,
   "metadata": {},
   "outputs": [
    {
     "data": {
      "text/plain": [
       "np.float64(0.4794144976744405)"
      ]
     },
     "execution_count": 31,
     "metadata": {},
     "output_type": "execute_result"
    }
   ],
   "source": [
    "df['response_time'].min()"
   ]
  },
  {
   "cell_type": "markdown",
   "metadata": {},
   "source": [
    "What was the maximum response time across all the trials?"
   ]
  },
  {
   "cell_type": "code",
   "execution_count": 32,
   "metadata": {},
   "outputs": [
    {
     "data": {
      "text/plain": [
       "np.float64(2.713576095788426)"
      ]
     },
     "execution_count": 32,
     "metadata": {},
     "output_type": "execute_result"
    }
   ],
   "source": [
    "df['response_time'].max()"
   ]
  },
  {
   "cell_type": "markdown",
   "metadata": {},
   "source": [
    "What was the mean response time?  "
   ]
  },
  {
   "cell_type": "code",
   "execution_count": 33,
   "metadata": {},
   "outputs": [
    {
     "data": {
      "text/plain": [
       "np.float64(1.4228323570687087)"
      ]
     },
     "execution_count": 33,
     "metadata": {},
     "output_type": "execute_result"
    }
   ],
   "source": [
    "df['response_time'].mean()"
   ]
  },
  {
   "cell_type": "markdown",
   "metadata": {},
   "source": [
    "What was the median response time?"
   ]
  },
  {
   "cell_type": "code",
   "execution_count": 34,
   "metadata": {},
   "outputs": [
    {
     "data": {
      "text/plain": [
       "np.float64(1.1833335596579744)"
      ]
     },
     "execution_count": 34,
     "metadata": {},
     "output_type": "execute_result"
    }
   ],
   "source": [
    "df['response_time'].median()\n"
   ]
  },
  {
   "cell_type": "markdown",
   "metadata": {},
   "source": [
    "**Extra**: It's possible to calculate multiple aggregation statistics at the same time, as well, using the `df.agg()` method and giving it a list of statistic functions to call on the data, for example from the numpy (`np`) package:\n",
    "\n",
    "```python\n",
    "df[['column1', 'column2']].agg([np.mean, np.min, np.max])\n",
    "```\n",
    "\n",
    "If you like, try out this pattern by calculating the min, max, mean, and median at the same time on the response times and the reaction times!"
   ]
  },
  {
   "cell_type": "code",
   "execution_count": 35,
   "metadata": {},
   "outputs": [
    {
     "name": "stderr",
     "output_type": "stream",
     "text": [
      "C:\\Users\\sangeetha\\AppData\\Local\\Temp\\ipykernel_13280\\2452631902.py:1: FutureWarning: The provided callable <function mean at 0x00000212886F68E0> is currently using Series.mean. In a future version of pandas, the provided callable will be used directly. To keep current behavior pass the string \"mean\" instead.\n",
      "  df[['response_time', 'reaction_time']].agg([np.mean, np.median, np.min, np.max])\n",
      "C:\\Users\\sangeetha\\AppData\\Local\\Temp\\ipykernel_13280\\2452631902.py:1: FutureWarning: The provided callable <function median at 0x000002128886D800> is currently using Series.median. In a future version of pandas, the provided callable will be used directly. To keep current behavior pass the string \"median\" instead.\n",
      "  df[['response_time', 'reaction_time']].agg([np.mean, np.median, np.min, np.max])\n",
      "C:\\Users\\sangeetha\\AppData\\Local\\Temp\\ipykernel_13280\\2452631902.py:1: FutureWarning: The provided callable <function min at 0x00000212886F6020> is currently using Series.min. In a future version of pandas, the provided callable will be used directly. To keep current behavior pass the string \"min\" instead.\n",
      "  df[['response_time', 'reaction_time']].agg([np.mean, np.median, np.min, np.max])\n",
      "C:\\Users\\sangeetha\\AppData\\Local\\Temp\\ipykernel_13280\\2452631902.py:1: FutureWarning: The provided callable <function max at 0x00000212886F5EE0> is currently using Series.max. In a future version of pandas, the provided callable will be used directly. To keep current behavior pass the string \"max\" instead.\n",
      "  df[['response_time', 'reaction_time']].agg([np.mean, np.median, np.min, np.max])\n",
      "C:\\Users\\sangeetha\\AppData\\Local\\Temp\\ipykernel_13280\\2452631902.py:1: FutureWarning: The provided callable <function mean at 0x00000212886F68E0> is currently using Series.mean. In a future version of pandas, the provided callable will be used directly. To keep current behavior pass the string \"mean\" instead.\n",
      "  df[['response_time', 'reaction_time']].agg([np.mean, np.median, np.min, np.max])\n",
      "C:\\Users\\sangeetha\\AppData\\Local\\Temp\\ipykernel_13280\\2452631902.py:1: FutureWarning: The provided callable <function median at 0x000002128886D800> is currently using Series.median. In a future version of pandas, the provided callable will be used directly. To keep current behavior pass the string \"median\" instead.\n",
      "  df[['response_time', 'reaction_time']].agg([np.mean, np.median, np.min, np.max])\n",
      "C:\\Users\\sangeetha\\AppData\\Local\\Temp\\ipykernel_13280\\2452631902.py:1: FutureWarning: The provided callable <function min at 0x00000212886F6020> is currently using Series.min. In a future version of pandas, the provided callable will be used directly. To keep current behavior pass the string \"min\" instead.\n",
      "  df[['response_time', 'reaction_time']].agg([np.mean, np.median, np.min, np.max])\n",
      "C:\\Users\\sangeetha\\AppData\\Local\\Temp\\ipykernel_13280\\2452631902.py:1: FutureWarning: The provided callable <function max at 0x00000212886F5EE0> is currently using Series.max. In a future version of pandas, the provided callable will be used directly. To keep current behavior pass the string \"max\" instead.\n",
      "  df[['response_time', 'reaction_time']].agg([np.mean, np.median, np.min, np.max])\n"
     ]
    },
    {
     "data": {
      "text/html": [
       "<div>\n",
       "<style scoped>\n",
       "    .dataframe tbody tr th:only-of-type {\n",
       "        vertical-align: middle;\n",
       "    }\n",
       "\n",
       "    .dataframe tbody tr th {\n",
       "        vertical-align: top;\n",
       "    }\n",
       "\n",
       "    .dataframe thead th {\n",
       "        text-align: right;\n",
       "    }\n",
       "</style>\n",
       "<table border=\"1\" class=\"dataframe\">\n",
       "  <thead>\n",
       "    <tr style=\"text-align: right;\">\n",
       "      <th></th>\n",
       "      <th>response_time</th>\n",
       "      <th>reaction_time</th>\n",
       "    </tr>\n",
       "  </thead>\n",
       "  <tbody>\n",
       "    <tr>\n",
       "      <th>mean</th>\n",
       "      <td>1.422832</td>\n",
       "      <td>inf</td>\n",
       "    </tr>\n",
       "    <tr>\n",
       "      <th>median</th>\n",
       "      <td>1.183334</td>\n",
       "      <td>460.0</td>\n",
       "    </tr>\n",
       "    <tr>\n",
       "      <th>min</th>\n",
       "      <td>0.479414</td>\n",
       "      <td>0.0</td>\n",
       "    </tr>\n",
       "    <tr>\n",
       "      <th>max</th>\n",
       "      <td>2.713576</td>\n",
       "      <td>inf</td>\n",
       "    </tr>\n",
       "  </tbody>\n",
       "</table>\n",
       "</div>"
      ],
      "text/plain": [
       "        response_time  reaction_time\n",
       "mean         1.422832            inf\n",
       "median       1.183334          460.0\n",
       "min          0.479414            0.0\n",
       "max          2.713576            inf"
      ]
     },
     "execution_count": 35,
     "metadata": {},
     "output_type": "execute_result"
    }
   ],
   "source": [
    "df[['response_time', 'reaction_time']].agg([np.mean, np.median, np.min, np.max])"
   ]
  },
  {
   "cell_type": "markdown",
   "metadata": {},
   "source": [
    "---"
   ]
  },
  {
   "cell_type": "markdown",
   "metadata": {},
   "source": [
    "### Group-specific Experiment Description: Calculating Statistics Across Categorical Data\n",
    "\n",
    "Perhaps the most useful pattern in all of data science is the \"group-by\" pattern; it lets you compute a statistic on different groups of data, essentially building a mini analysis pipeline in a single line of code!  \n",
    "\n",
    "Here is the pattern, broken down into its individual steps:\n",
    "\n",
    "\n",
    "```python\n",
    "(\n",
    "df                     # 1. Choose a dataset\n",
    ".groupby('column1')    # 2. Split the Data into sub-datasets, based on values in column1\n",
    "['column2']            # 3. Get column2 in each of those sub-datasets\n",
    ".mean()                # 4. Calculate the mean of column2 for each sub-dataset\n",
    ")\n",
    "```\n",
    "\n",
    "Below are some examples of the pattern:\n",
    "\n",
    "| **Code**                                                 | **Description**                                                                                               |\n",
    "|---------------------------------------------------------------|---------------------------------------------------------------------------------------------------------------|\n",
    "| `df.groupby('col1')['col2'].mean()`                           | Calculates the mean of `col2` for each group in `col1`.                                                      |\n",
    "| `df.groupby('col1')['col2'].min()`                            | Finds the minimum value of `col2` for each group in `col1`.                                                  |\n",
    "| `df.groupby('col1')['col2'].size()`                           | Counts the size of `col2` for each group in `col1`.                                                          |\n",
    "| `df.groupby('col1')['col2'].size().sort_index()`              | Counts the size of `col2` for each group in `col1`, then sorts these counts by the index.                    |\n",
    "| `df.groupby('col1')['col2'].size().mean()`                    | Calculates the mean of the sizes of `col2` for each group in `col1`.                                         |\n",
    "| `df.groupby(['col1', 'col2'])['col3'].mean()`                 | Calculates the mean of `col3` for each combination of groups in `col1` and `col2`.                           |\n",
    "| `df.groupby(['col1', 'col2'])['col3'].median()`               | Finds the median of `col3` for each combination of groups in `col1` and `col2`.                              |\n",
    "| `df.groupby(['col1', 'col2'])['col3'].median().reset_index()` | Finds the median of `col3` for each combination of groups in `col1` and `col2`, resetting the index.         |\n",
    "| `df.groupby('col1')['col2'].plot.bar()`                       | Creates a bar plot of the counts of `col2` for each group in `col1`.                                         |\n",
    "| `df.groupby('col1')['col2'].plot.barh()`                      | Creates a horizontal bar plot of the counts of `col2` for each group in `col1`.                              |\n",
    "| `df.groupby('col1')['col2'].size().plot.line()`               | Creates a line plot showing the size of each group in `col1` over `col2`.                                    |\n",
    "\n",
    "\n",
    "\n",
    "Let's try it out!"
   ]
  },
  {
   "cell_type": "markdown",
   "metadata": {},
   "source": [
    "**Example**: How many trials did each mouse perform?"
   ]
  },
  {
   "cell_type": "code",
   "execution_count": 36,
   "metadata": {},
   "outputs": [
    {
     "data": {
      "text/plain": [
       "mouse\n",
       "Cori         1143\n",
       "Forssmann    1485\n",
       "Hench        1851\n",
       "Lederberg    2902\n",
       "Moniz         896\n",
       "Muller       1112\n",
       "Radnitz      1512\n",
       "Richards     1677\n",
       "Tatum        1389\n",
       "Theiler       453\n",
       "dtype: int64"
      ]
     },
     "execution_count": 36,
     "metadata": {},
     "output_type": "execute_result"
    }
   ],
   "source": [
    "df.groupby('mouse').size()"
   ]
  },
  {
   "cell_type": "markdown",
   "metadata": {},
   "source": [
    "How many trials were there of each contrast_left level?"
   ]
  },
  {
   "cell_type": "code",
   "execution_count": 37,
   "metadata": {},
   "outputs": [
    {
     "data": {
      "text/plain": [
       "contrast_left\n",
       "0      7200\n",
       "25     1680\n",
       "50     1696\n",
       "100    3844\n",
       "dtype: int64"
      ]
     },
     "execution_count": 37,
     "metadata": {},
     "output_type": "execute_result"
    }
   ],
   "source": [
    "df.groupby('contrast_left').size()"
   ]
  },
  {
   "cell_type": "markdown",
   "metadata": {},
   "source": [
    "What was the mean response time for each mouse?"
   ]
  },
  {
   "cell_type": "code",
   "execution_count": 38,
   "metadata": {},
   "outputs": [
    {
     "data": {
      "text/plain": [
       "mouse\n",
       "Cori         1.590866\n",
       "Forssmann    1.470583\n",
       "Hench        1.525732\n",
       "Lederberg    1.143775\n",
       "Moniz        1.777660\n",
       "Muller       1.575818\n",
       "Radnitz      1.559084\n",
       "Richards     1.358330\n",
       "Tatum        1.337701\n",
       "Theiler      1.338751\n",
       "Name: response_time, dtype: float64"
      ]
     },
     "execution_count": 38,
     "metadata": {},
     "output_type": "execute_result"
    }
   ],
   "source": [
    "df.groupby('mouse')['response_time'].mean()"
   ]
  },
  {
   "cell_type": "markdown",
   "metadata": {},
   "source": [
    "What was the mean number of trials in each session?"
   ]
  },
  {
   "cell_type": "code",
   "execution_count": 39,
   "metadata": {},
   "outputs": [
    {
     "data": {
      "text/plain": [
       "np.float64(369.7435897435897)"
      ]
     },
     "execution_count": 39,
     "metadata": {},
     "output_type": "execute_result"
    }
   ],
   "source": [
    "df.groupby('session_id').size().mean()"
   ]
  },
  {
   "cell_type": "markdown",
   "metadata": {},
   "source": [
    "What was the minimum number of trials in a session?"
   ]
  },
  {
   "cell_type": "code",
   "execution_count": 40,
   "metadata": {},
   "outputs": [
    {
     "data": {
      "text/plain": [
       "np.int64(194)"
      ]
     },
     "execution_count": 40,
     "metadata": {},
     "output_type": "execute_result"
    }
   ],
   "source": [
    "df.groupby('session_id').size().min()"
   ]
  },
  {
   "cell_type": "markdown",
   "metadata": {},
   "source": [
    "How many sessions did each mouse do?"
   ]
  },
  {
   "cell_type": "code",
   "execution_count": 41,
   "metadata": {},
   "outputs": [
    {
     "data": {
      "text/plain": [
       "mouse\n",
       "Cori         3\n",
       "Forssmann    4\n",
       "Hench        4\n",
       "Lederberg    7\n",
       "Moniz        3\n",
       "Muller       3\n",
       "Radnitz      5\n",
       "Richards     5\n",
       "Tatum        4\n",
       "Theiler      1\n",
       "Name: session_id, dtype: int64"
      ]
     },
     "execution_count": 41,
     "metadata": {},
     "output_type": "execute_result"
    }
   ],
   "source": [
    "df.groupby('mouse')['session_id'].nunique()"
   ]
  },
  {
   "cell_type": "markdown",
   "metadata": {},
   "source": [
    "How many trials were their of each combination of contrast_left and contrast_right levels?"
   ]
  },
  {
   "cell_type": "code",
   "execution_count": 42,
   "metadata": {},
   "outputs": [
    {
     "data": {
      "text/plain": [
       "contrast_left  contrast_right\n",
       "0              0                 2649\n",
       "               25                 738\n",
       "               50                1078\n",
       "               100               2735\n",
       "25             0                  353\n",
       "               25                 255\n",
       "               50                 372\n",
       "               100                700\n",
       "50             0                  767\n",
       "               25                 348\n",
       "               50                 256\n",
       "               100                325\n",
       "100            0                 1334\n",
       "               25                1187\n",
       "               50                 712\n",
       "               100                611\n",
       "dtype: int64"
      ]
     },
     "execution_count": 42,
     "metadata": {},
     "output_type": "execute_result"
    }
   ],
   "source": [
    "df.groupby(['contrast_left', 'contrast_right']).size()"
   ]
  },
  {
   "cell_type": "markdown",
   "metadata": {},
   "source": [
    "Make a bar plot showing how many trials there were for each contrast_right level."
   ]
  },
  {
   "cell_type": "code",
   "execution_count": 43,
   "metadata": {},
   "outputs": [
    {
     "data": {
      "image/png": "[encoded data removed]",
      "text/plain": [
       "<Figure size 640x480 with 1 Axes>"
      ]
     },
     "metadata": {},
     "output_type": "display_data"
    }
   ],
   "source": [
    "df.groupby('contrast_right').size().plot.bar();"
   ]
  },
  {
   "cell_type": "markdown",
   "metadata": {},
   "source": [
    "Make a horizontal bar plot showing how many sessions each mouse did."
   ]
  },
  {
   "cell_type": "code",
   "execution_count": 44,
   "metadata": {},
   "outputs": [
    {
     "data": {
      "image/png": "[encoded data removed]",
      "text/plain": [
       "<Figure size 640x480 with 1 Axes>"
      ]
     },
     "metadata": {},
     "output_type": "display_data"
    }
   ],
   "source": [
    "df.groupby('mouse')['session_id'].nunique().plot.barh();"
   ]
  },
  {
   "cell_type": "markdown",
   "metadata": {},
   "source": [
    "Make a line plot showing how many trials there were for each contrast_left level."
   ]
  },
  {
   "cell_type": "code",
   "execution_count": 45,
   "metadata": {},
   "outputs": [
    {
     "data": {
      "image/png": "[encoded data removed]",
      "text/plain": [
       "<Figure size 640x480 with 1 Axes>"
      ]
     },
     "metadata": {},
     "output_type": "display_data"
    }
   ],
   "source": [
    "df.groupby('contrast_left').size().plot.line();"
   ]
  },
  {
   "cell_type": "markdown",
   "metadata": {},
   "source": [
    "---"
   ]
  },
  {
   "cell_type": "markdown",
   "metadata": {},
   "source": [
    "### Visualizing the Experimental Design using Some Useful Plotting Recipes\n",
    "\n",
    "We'll be using the [**Seaborn package**](https://seaborn.pydata.org/) a lot in this course, which is a Python data visualization library that provides a high-level interface for creating attractive and informative statistical graphics. It integrates well with pandas DataFrames, making it especially useful for exploring and understanding data through its support for complex visualizations with minimal code and for producing plots that can easily convey insights from the data.\n",
    "\n",
    "Let's try out a few of the Seaborn plotting functions using the following patterns:\n",
    "\n",
    "| **Operation**                                                        | **Description**                                                                                                     |\n",
    "|----------------------------------------------------------------------|---------------------------------------------------------------------------------------------------------------------|\n",
    "| `sns.countplot(df['col1'])`                                          | Generates a count plot for the values in `col1`, showing the counts of the unique values of the column.            |\n",
    "| `sns.histplot(df['col1'])`                                           | Creates a histogram for `col1`, visualizing the distribution of the column's values.                               |\n",
    "| `sns.kdeplot(df['col1'])`                                            | Plots the Kernel Density Estimate (KDE) for `col1`, which estimates the probability density function of the column. |\n",
    "| `sns.heatmap(df.groupby(['col1', 'col2'])['col3'].size().unstack())` | Generates a heatmap representing the size of groups formed by combining `col1` and `col2`, with `col3` values.     |"
   ]
  },
  {
   "cell_type": "markdown",
   "metadata": {},
   "source": [
    "Let's make some plots of the data using Seaborn (`sns`)!"
   ]
  },
  {
   "cell_type": "markdown",
   "metadata": {},
   "source": [
    "**Example**: How many trials were in each session?"
   ]
  },
  {
   "cell_type": "code",
   "execution_count": 46,
   "metadata": {},
   "outputs": [
    {
     "data": {
      "text/plain": [
       "<Axes: xlabel='count', ylabel='session_id'>"
      ]
     },
     "execution_count": 46,
     "metadata": {},
     "output_type": "execute_result"
    },
    {
     "data": {
      "image/png": "[encoded data removed]",
      "text/plain": [
       "<Figure size 640x480 with 1 Axes>"
      ]
     },
     "metadata": {},
     "output_type": "display_data"
    }
   ],
   "source": [
    "sns.countplot(data=df, y=\"session_id\")"
   ]
  },
  {
   "cell_type": "markdown",
   "metadata": {},
   "source": [
    "How many trials did each mouse do?"
   ]
  },
  {
   "cell_type": "code",
   "execution_count": 47,
   "metadata": {},
   "outputs": [
    {
     "data": {
      "text/plain": [
       "<Axes: xlabel='count', ylabel='mouse'>"
      ]
     },
     "execution_count": 47,
     "metadata": {},
     "output_type": "execute_result"
    },
    {
     "data": {
      "image/png": "[encoded data removed]",
      "text/plain": [
       "<Figure size 640x480 with 1 Axes>"
      ]
     },
     "metadata": {},
     "output_type": "display_data"
    }
   ],
   "source": [
    "sns.countplot(data=df, y=\"mouse\")"
   ]
  },
  {
   "cell_type": "markdown",
   "metadata": {},
   "source": [
    "Make a histogram of the response times in the dataset"
   ]
  },
  {
   "cell_type": "code",
   "execution_count": 48,
   "metadata": {},
   "outputs": [
    {
     "data": {
      "image/png": "[encoded data removed]",
      "text/plain": [
       "<Figure size 640x480 with 1 Axes>"
      ]
     },
     "metadata": {},
     "output_type": "display_data"
    }
   ],
   "source": [
    "sns.histplot(data=df, x='response_time');"
   ]
  },
  {
   "cell_type": "markdown",
   "metadata": {},
   "source": [
    "Make a kernel density estimate (kind of a smoothed histogram) of the response times in the dataset."
   ]
  },
  {
   "cell_type": "code",
   "execution_count": 49,
   "metadata": {},
   "outputs": [
    {
     "data": {
      "image/png": "[encoded data removed]",
      "text/plain": [
       "<Figure size 640x480 with 1 Axes>"
      ]
     },
     "metadata": {},
     "output_type": "display_data"
    }
   ],
   "source": [
    "sns.kdeplot(data=df, x=\"response_time\");"
   ]
  },
  {
   "cell_type": "markdown",
   "metadata": {},
   "source": [
    "This one is a little more complex: Using `groupby`, `size()`, and `unstack`, make a heatmap of showing number of contrast_left and contrast_right trials"
   ]
  },
  {
   "cell_type": "code",
   "execution_count": 50,
   "metadata": {},
   "outputs": [
    {
     "data": {
      "image/png": "[encoded data removed]",
      "text/plain": [
       "<Figure size 640x480 with 2 Axes>"
      ]
     },
     "metadata": {},
     "output_type": "display_data"
    }
   ],
   "source": [
    "sns.heatmap(df.groupby(['contrast_left', 'contrast_right']).size().unstack());"
   ]
  },
  {
   "cell_type": "markdown",
   "metadata": {},
   "source": [
    "### Seaborn gallery\n",
    "\n",
    "If you'd like to explore other kinds of plots that can be made using seaborn, check out their gallery [here](https://seaborn.pydata.org/examples/index.html) where you will find the complete code to create those plots."
   ]
  }
 ],
 "metadata": {
  "kernelspec": {
   "display_name": "default",
   "language": "python",
   "name": "python3"
  },
  "language_info": {
   "codemirror_mode": {
    "name": "ipython",
    "version": 3
   },
   "file_extension": ".py",
   "mimetype": "text/x-python",
   "name": "python",
   "nbconvert_exporter": "python",
   "pygments_lexer": "ipython3",
   "version": "3.12.10"
  }
 },
 "nbformat": 4,
 "nbformat_minor": 4
}
